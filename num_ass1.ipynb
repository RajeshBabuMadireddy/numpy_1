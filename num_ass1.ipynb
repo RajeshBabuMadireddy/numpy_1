{
 "cells": [
  {
   "cell_type": "code",
   "execution_count": 3,
   "metadata": {},
   "outputs": [],
   "source": [
    "import numpy as np"
   ]
  },
  {
   "cell_type": "code",
   "execution_count": 24,
   "metadata": {},
   "outputs": [
    {
     "data": {
      "text/plain": [
       "array([0., 0., 0., 0., 1., 0., 0., 0., 0., 0.])"
      ]
     },
     "execution_count": 24,
     "metadata": {},
     "output_type": "execute_result"
    }
   ],
   "source": [
    "# a null vector of size 10 but the fifth value which is 1\n",
    "x = np.zeros(10)\n",
    "x[4] = 1\n",
    "x"
   ]
  },
  {
   "cell_type": "code",
   "execution_count": 12,
   "metadata": {},
   "outputs": [
    {
     "data": {
      "text/plain": [
       "40"
      ]
     },
     "execution_count": 12,
     "metadata": {},
     "output_type": "execute_result"
    }
   ],
   "source": [
    "# a vector with values ranging from 10 to 49\n",
    "ns=np.arange(10,50)\n",
    "ns"
   ]
  },
  {
   "cell_type": "code",
   "execution_count": 20,
   "metadata": {},
   "outputs": [
    {
     "data": {
      "text/plain": [
       "array([[0, 7, 7],\n",
       "       [1, 1, 5],\n",
       "       [3, 0, 0]])"
      ]
     },
     "execution_count": 20,
     "metadata": {},
     "output_type": "execute_result"
    }
   ],
   "source": [
    "#a 3x3 matrix with values ranging from 0 to 8\n",
    "import random\n",
    "ns=np.random.randint(0,8,(3,3))\n",
    "ns"
   ]
  },
  {
   "cell_type": "code",
   "execution_count": 22,
   "metadata": {},
   "outputs": [
    {
     "data": {
      "text/plain": [
       "(array([0, 1, 4], dtype=int64),)"
      ]
     },
     "execution_count": 22,
     "metadata": {},
     "output_type": "execute_result"
    }
   ],
   "source": [
    "#indices of non-zero elements from [1,2,0,0,4,0]\n",
    "non_zero=np.array([1,2,0,0,4,0])\n",
    "np.nonzero(non_zero)"
   ]
  },
  {
   "cell_type": "code",
   "execution_count": 13,
   "metadata": {},
   "outputs": [
    {
     "name": "stdout",
     "output_type": "stream",
     "text": [
      "[[[ 1.76405235  0.40015721  0.97873798  2.2408932   1.86755799\n",
      "   -0.97727788  0.95008842 -0.15135721 -0.10321885  0.4105985 ]\n",
      "  [ 0.14404357  1.45427351  0.76103773  0.12167502  0.44386323\n",
      "    0.33367433  1.49407907 -0.20515826  0.3130677  -0.85409574]\n",
      "  [-2.55298982  0.6536186   0.8644362  -0.74216502  2.26975462\n",
      "   -1.45436567  0.04575852 -0.18718385  1.53277921  1.46935877]\n",
      "  [ 0.15494743  0.37816252 -0.88778575 -1.98079647 -0.34791215\n",
      "    0.15634897  1.23029068  1.20237985 -0.38732682 -0.30230275]\n",
      "  [-1.04855297 -1.42001794 -1.70627019  1.9507754  -0.50965218\n",
      "   -0.4380743  -1.25279536  0.77749036 -1.61389785 -0.21274028]\n",
      "  [-0.89546656  0.3869025  -0.51080514 -1.18063218 -0.02818223\n",
      "    0.42833187  0.06651722  0.3024719  -0.63432209 -0.36274117]\n",
      "  [-0.67246045 -0.35955316 -0.81314628 -1.7262826   0.17742614\n",
      "   -0.40178094 -1.63019835  0.46278226 -0.90729836  0.0519454 ]\n",
      "  [ 0.72909056  0.12898291  1.13940068 -1.23482582  0.40234164\n",
      "   -0.68481009 -0.87079715 -0.57884966 -0.31155253  0.05616534]\n",
      "  [-1.16514984  0.90082649  0.46566244 -1.53624369  1.48825219\n",
      "    1.89588918  1.17877957 -0.17992484 -1.07075262  1.05445173]\n",
      "  [-0.40317695  1.22244507  0.20827498  0.97663904  0.3563664\n",
      "    0.70657317  0.01050002  1.78587049  0.12691209  0.40198936]]]\n",
      "max value: 2.2697546239876076\n",
      "min value : -2.5529898158340787\n",
      "100\n"
     ]
    }
   ],
   "source": [
    "# a 10x10 array with random values and find the minimum and maximum value\n",
    "import random\n",
    "np.random.seed(0)\n",
    "x=np.random.randn(1,10,10)\n",
    "print(x)\n",
    "print(\"max value:\",np.max(x))\n",
    "print(\"min value :\",np.min(x))\n",
    "\n"
   ]
  },
  {
   "cell_type": "code",
   "execution_count": 18,
   "metadata": {},
   "outputs": [
    {
     "name": "stdout",
     "output_type": "stream",
     "text": [
      "[[ 1.62434536 -0.61175641 -0.52817175 -1.07296862  0.86540763 -2.3015387\n",
      "   1.74481176 -0.7612069   0.3190391  -0.24937038]\n",
      " [ 1.46210794 -2.06014071 -0.3224172  -0.38405435  1.13376944 -1.09989127\n",
      "  -0.17242821 -0.87785842  0.04221375  0.58281521]\n",
      " [-1.10061918  1.14472371  0.90159072  0.50249434  0.90085595 -0.68372786\n",
      "  -0.12289023 -0.93576943 -0.26788808  0.53035547]]\n",
      "mean is: -0.0599389106556233\n",
      "2\n"
     ]
    }
   ],
   "source": [
    "# a random vector of size 30 and find the mean value\n",
    "np.random.seed(1)\n",
    "y=np.random.randn(3,10)\n",
    "print(y)\n",
    "print(\"mean is:\",np.mean(y))"
   ]
  },
  {
   "cell_type": "code",
   "execution_count": null,
   "metadata": {},
   "outputs": [],
   "source": []
  }
 ],
 "metadata": {
  "kernelspec": {
   "display_name": "Python 3.10.4 64-bit",
   "language": "python",
   "name": "python3"
  },
  "language_info": {
   "codemirror_mode": {
    "name": "ipython",
    "version": 3
   },
   "file_extension": ".py",
   "mimetype": "text/x-python",
   "name": "python",
   "nbconvert_exporter": "python",
   "pygments_lexer": "ipython3",
   "version": "3.10.4"
  },
  "orig_nbformat": 4,
  "vscode": {
   "interpreter": {
    "hash": "107d7b120a5b68773a87d4067e673630b35702e55ebab3138143d08b1c4d7cbc"
   }
  }
 },
 "nbformat": 4,
 "nbformat_minor": 2
}
